{
 "cells": [
  {
   "cell_type": "markdown",
   "id": "postal-consent",
   "metadata": {},
   "source": [
    "## 5.3 Iris flower extended data set –Classification using different Algorithms"
   ]
  },
  {
   "cell_type": "markdown",
   "id": "comparative-beads",
   "metadata": {},
   "source": [
    "Continuing with the Iris dataset, suppose that we have Iris already identified in the 3 classes but\n",
    "now we have also the Iris packed in different types of packages: “Simple – 0”, “Gift – 1” and “Luxury\n",
    "– 3”. We also have a new variable “price” with three possibilities: “Low”, “Medium”, “High”. "
   ]
  },
  {
   "cell_type": "markdown",
   "id": "super-outside",
   "metadata": {},
   "source": [
    "We have now a different classification problem in which we want to predict the “price” classification\n",
    "based on the remaining characteristics: `sepal_length_cm`, `sepal_width_cm`, `petal_length_cm`,\n",
    "`petal_width_cm`, `iris_type`, and `package`."
   ]
  },
  {
   "cell_type": "markdown",
   "id": "collaborative-object",
   "metadata": {},
   "source": [
    "**a)** Create a new notebook and start by importing the needed libraries. "
   ]
  },
  {
   "cell_type": "code",
   "execution_count": null,
   "id": "matched-romance",
   "metadata": {},
   "outputs": [],
   "source": [
    "import pandas as pd\n",
    "import numpy as np\n",
    "import seaborn as sns\n",
    "import os\n",
    "\n",
    "from sklearn.tree import DecisionTreeClassifier\n",
    "from sklearn.model_selection import train_test_split\n",
    "from sklearn.neighbors import KNeighborsClassifier\n",
    "from sklearn.tree import DecisionTreeClassifier\n",
    "from sklearn.metrics import accuracy_score,precision_score, recall_score, f1_score, confusion_matrix"
   ]
  },
  {
   "cell_type": "markdown",
   "id": "fleet-client",
   "metadata": {},
   "source": [
    "**b)** Read the data from the CSV file and check the data using the `head()`, `describe()`, and other\n",
    "Pandas commands. "
   ]
  },
  {
   "cell_type": "code",
   "execution_count": null,
   "id": "looking-second",
   "metadata": {},
   "outputs": [],
   "source": [
    "df = pd.read_csv(os.getcwd() + \"/iris-data-new2.csv\")"
   ]
  },
  {
   "cell_type": "code",
   "execution_count": null,
   "id": "polar-breakdown",
   "metadata": {},
   "outputs": [],
   "source": [
    "df.head()"
   ]
  },
  {
   "cell_type": "code",
   "execution_count": null,
   "id": "regular-binding",
   "metadata": {},
   "outputs": [],
   "source": [
    "df.describe()"
   ]
  },
  {
   "cell_type": "code",
   "execution_count": null,
   "id": "automatic-guidance",
   "metadata": {},
   "outputs": [],
   "source": [
    "sns.pairplot(df, hue='iris_type');"
   ]
  },
  {
   "cell_type": "markdown",
   "id": "unauthorized-truck",
   "metadata": {},
   "source": [
    "**c)** Using only the `sepal_length_cm`, `sepal_width_cm`, `petal_length_cm`, `petal_width_cm`, fit a simple decision tree model to the data."
   ]
  },
  {
   "cell_type": "code",
   "execution_count": null,
   "id": "adequate-shelf",
   "metadata": {},
   "outputs": [],
   "source": [
    "x = df[[\"sepal_length_cm\", \"sepal_width_cm\", \"petal_length_cm\", \"petal_width_cm\"]].values\n",
    "x.shape"
   ]
  },
  {
   "cell_type": "code",
   "execution_count": null,
   "id": "through-loading",
   "metadata": {},
   "outputs": [],
   "source": [
    "y = df[\"price\"].values\n",
    "y.shape"
   ]
  },
  {
   "cell_type": "code",
   "execution_count": null,
   "id": "second-distance",
   "metadata": {},
   "outputs": [],
   "source": [
    "x_train, x_test, y_train, y_test = train_test_split(x, y, random_state=50, test_size=0.25)\n",
    "clf = DecisionTreeClassifier(criterion='entropy')"
   ]
  },
  {
   "cell_type": "markdown",
   "id": "aging-squad",
   "metadata": {},
   "source": [
    "Training the decision tree classifier. "
   ]
  },
  {
   "cell_type": "code",
   "execution_count": null,
   "id": "acknowledged-tension",
   "metadata": {},
   "outputs": [],
   "source": [
    "clf.fit(x_train, y_train);"
   ]
  },
  {
   "cell_type": "markdown",
   "id": "virtual-resort",
   "metadata": {},
   "source": [
    "**d)** Analyse the accuracy, precision, recall and f-measure achieved.\n"
   ]
  },
  {
   "cell_type": "code",
   "execution_count": null,
   "id": "reflected-clear",
   "metadata": {},
   "outputs": [],
   "source": [
    "print('Accuracy Score on test data: ', accuracy_score(y_test, clf.predict(x_test)))\n",
    "print(\"Precision Score on test data \", precision_score(y_test, clf.predict(x_test), average='weighted'))\n",
    "print(\"Recall Score on test data \", recall_score(y_test, clf.predict(x_test), average='weighted'))\n",
    "print(\"F-Measure on test data \", f1_score(y_test, clf.predict(x_test), average='weighted'))"
   ]
  },
  {
   "cell_type": "markdown",
   "id": "appreciated-comedy",
   "metadata": {},
   "source": [
    "**e)** Create and analyse a confusion matrix of the results. \n"
   ]
  },
  {
   "cell_type": "code",
   "execution_count": null,
   "id": "seeing-georgia",
   "metadata": {},
   "outputs": [],
   "source": [
    "y_pred = clf.predict(x_test)\n",
    "confusion_matrix(y_test, y_pred)"
   ]
  },
  {
   "cell_type": "markdown",
   "id": "rotary-thread",
   "metadata": {},
   "source": [
    "**f)** Using only the attribute `sepal_length_cm`, `sepal_width_cm`, `petal_length_cm`, `petal_width_cm`, fit a simple nearest neighbor model to the data.\n"
   ]
  },
  {
   "cell_type": "code",
   "execution_count": null,
   "id": "nearby-cartridge",
   "metadata": {},
   "outputs": [],
   "source": [
    "clf = KNeighborsClassifier(n_neighbors=3)\n",
    "clf.fit(x_train, y_train)\n",
    "sns.scatterplot(x=x[:, 0], y=x[:, 1], hue=y);"
   ]
  },
  {
   "cell_type": "markdown",
   "id": "turkish-alcohol",
   "metadata": {},
   "source": [
    "**g)** Analyse the accuracy, precision, recall and f-measure achieved.\n"
   ]
  },
  {
   "cell_type": "code",
   "execution_count": null,
   "id": "continued-strike",
   "metadata": {},
   "outputs": [],
   "source": [
    "print('Accuracy Score on test data: ', accuracy_score(y_test, clf.predict(x_test)))\n",
    "print(\"Precision Score on test data \", precision_score(y_test, clf.predict(x_test), average='weighted'))\n",
    "print(\"Recall Score on test data \", recall_score(y_test, clf.predict(x_test), average='weighted'))\n",
    "print(\"F-Measure on test data \", f1_score(y_test, clf.predict(x_test), average='weighted'))"
   ]
  },
  {
   "cell_type": "markdown",
   "id": "forced-album",
   "metadata": {},
   "source": [
    "**h)** Fit distinct models such as decision trees, SVM and neural networks to the data and try different configuration parameters."
   ]
  }
 ],
 "metadata": {
  "kernelspec": {
   "display_name": "Python 3",
   "language": "python",
   "name": "python3"
  },
  "language_info": {
   "codemirror_mode": {
    "name": "ipython",
    "version": 3
   },
   "file_extension": ".py",
   "mimetype": "text/x-python",
   "name": "python",
   "nbconvert_exporter": "python",
   "pygments_lexer": "ipython3",
   "version": "3.8.1"
  }
 },
 "nbformat": 4,
 "nbformat_minor": 5
}
