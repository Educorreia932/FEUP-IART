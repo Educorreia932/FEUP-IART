{
 "cells": [
  {
   "cell_type": "markdown",
   "id": "failing-greene",
   "metadata": {},
   "source": [
    "# 6.2. Frozen Lake Environment"
   ]
  },
  {
   "cell_type": "markdown",
   "id": "subsequent-nicaragua",
   "metadata": {},
   "source": [
    "**b)** Import the dependencies: numpy, OpenAI Gym, and random"
   ]
  },
  {
   "cell_type": "code",
   "execution_count": 6,
   "id": "tight-event",
   "metadata": {},
   "outputs": [],
   "source": [
    "import numpy as np\n",
    "import gym\n",
    "import random"
   ]
  },
  {
   "cell_type": "markdown",
   "id": "honest-receptor",
   "metadata": {},
   "source": [
    "**c)** Create a deterministic Frozen Lake environment, from the gym library, and render it on the\n",
    "screen.\n"
   ]
  },
  {
   "cell_type": "code",
   "execution_count": 13,
   "id": "linear-concrete",
   "metadata": {},
   "outputs": [
    {
     "name": "stdout",
     "output_type": "stream",
     "text": [
      "\n",
      "\u001b[41mS\u001b[0mFFF\n",
      "FHFH\n",
      "FFFH\n",
      "HFFG\n"
     ]
    }
   ],
   "source": [
    "from gym.envs.registration import register\n",
    "\n",
    "register(\n",
    "    id='FrozenLakeNotSlippery-v0',\n",
    "    entry_point='gym.envs.toy_text:FrozenLakeEnv',\n",
    "    kwargs={'map_name' : '4x4', 'is_slippery': False},\n",
    "    max_episode_steps=100,\n",
    "    reward_threshold=0.8196, # optimum = .8196, changing this seems have no influence\n",
    ")\n",
    "\n",
    "env = gym.make(\"FrozenLakeNotSlippery-v0\")\n",
    "env.render()"
   ]
  },
  {
   "cell_type": "markdown",
   "id": "broke-antarctica",
   "metadata": {},
   "source": [
    "**d)** Create a Q-table, considering the action space and the state space for this environment, and\n",
    "initialize its values with zeros."
   ]
  },
  {
   "cell_type": "code",
   "execution_count": 14,
   "id": "exclusive-therapy",
   "metadata": {},
   "outputs": [],
   "source": [
    "q_table = np.zeros([env.observation_space.n, env.action_space.n])"
   ]
  },
  {
   "cell_type": "markdown",
   "id": "marine-tomato",
   "metadata": {},
   "source": [
    "**e)** Set hyperparameter variables for the Q-learning algorithm: the total number of episodes to\n",
    "run and the maximum number of steps per episode; the learning rate and the discount\n",
    "factor; and the exploration parameter epsilon, together with its ranges and decay rate."
   ]
  },
  {
   "cell_type": "code",
   "execution_count": 17,
   "id": "enormous-plenty",
   "metadata": {},
   "outputs": [],
   "source": [
    "total_episodes = 200  # Total episodes\n",
    "learning_rate = 0.8   # Learning rate\n",
    "max_steps = 99        # Maximum number of steps per episode\n",
    "gamma = 0.95          # Discounting rate\n",
    "\n",
    "epsilon = 1.0         # Exploration rate\n",
    "max_epsilon = 1.0     # Exploration probability at start\n",
    "min_epsilon = 0.01    # Minimum exploration probability\n",
    "decay_rate = 0.001    # Exponential decay rate for exploration probability"
   ]
  },
  {
   "cell_type": "markdown",
   "id": "played-crowd",
   "metadata": {},
   "source": [
    "**f)** Implement Q-learning and use it to train the agent. Print some information as learning takes\n",
    "place."
   ]
  },
  {
   "cell_type": "markdown",
   "id": "minute-sampling",
   "metadata": {},
   "source": [
    "**g)** Print the optimal action for each state, according to the obtained Q-table values.\n"
   ]
  },
  {
   "cell_type": "markdown",
   "id": "visible-geneva",
   "metadata": {},
   "source": [
    "**h)** Show the outcome of following a greedy policy."
   ]
  }
 ],
 "metadata": {
  "kernelspec": {
   "display_name": "Python 3",
   "language": "python",
   "name": "python3"
  },
  "language_info": {
   "codemirror_mode": {
    "name": "ipython",
    "version": 3
   },
   "file_extension": ".py",
   "mimetype": "text/x-python",
   "name": "python",
   "nbconvert_exporter": "python",
   "pygments_lexer": "ipython3",
   "version": "3.8.1"
  }
 },
 "nbformat": 4,
 "nbformat_minor": 5
}
